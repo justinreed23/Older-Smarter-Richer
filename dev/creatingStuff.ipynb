{
 "cells": [
  {
   "cell_type": "code",
   "execution_count": 6,
   "metadata": {},
   "outputs": [],
   "source": [
    "import datetime\n",
    "import pandas as pd\n",
    "import random\n",
    "import numpy as np\n",
    "import seaborn as sns"
   ]
  },
  {
   "cell_type": "code",
   "execution_count": 7,
   "metadata": {},
   "outputs": [],
   "source": [
    "rng = np.random.default_rng(123)\n",
    "\n",
    "start_year = 1970\n",
    "end_year = 2020\n",
    "portfolios = [\"First\", \"Second\", \"Third\", \"Fourth\", \"Fifth\"]\n",
    "portfolios_list = []\n",
    "dates_list = []\n",
    "\n",
    "\n",
    "for portfolio in portfolios:\n",
    "    for year in range(start_year, end_year + 1):\n",
    "        for month in range(1, 13):\n",
    "            date = datetime.date(year, month, 1)\n",
    "            dates_list.append(date)\n",
    "            portfolios_list.append(portfolio)\n",
    "\n",
    "random_returns = rng.uniform(low=(-0.1 / 12), high=(0.3 / 12), size=len(dates_list))\n",
    "\n",
    "\n",
    "fake_returns = pd.DataFrame(\n",
    "    {\"Portfolio\": portfolios_list, \"date\": dates_list, \"ret\": random_returns}\n",
    ")\n"
   ]
  },
  {
   "cell_type": "code",
   "execution_count": 8,
   "metadata": {},
   "outputs": [
    {
     "data": {
      "text/html": [
       "<div>\n",
       "<style scoped>\n",
       "    .dataframe tbody tr th:only-of-type {\n",
       "        vertical-align: middle;\n",
       "    }\n",
       "\n",
       "    .dataframe tbody tr th {\n",
       "        vertical-align: top;\n",
       "    }\n",
       "\n",
       "    .dataframe thead th {\n",
       "        text-align: right;\n",
       "    }\n",
       "</style>\n",
       "<table border=\"1\" class=\"dataframe\">\n",
       "  <thead>\n",
       "    <tr style=\"text-align: right;\">\n",
       "      <th></th>\n",
       "      <th>Portfolio</th>\n",
       "      <th>date</th>\n",
       "      <th>ret</th>\n",
       "    </tr>\n",
       "  </thead>\n",
       "  <tbody>\n",
       "    <tr>\n",
       "      <th>0</th>\n",
       "      <td>First</td>\n",
       "      <td>1970-01-01</td>\n",
       "      <td>0.014412</td>\n",
       "    </tr>\n",
       "    <tr>\n",
       "      <th>1</th>\n",
       "      <td>First</td>\n",
       "      <td>1970-02-01</td>\n",
       "      <td>-0.006539</td>\n",
       "    </tr>\n",
       "    <tr>\n",
       "      <th>2</th>\n",
       "      <td>First</td>\n",
       "      <td>1970-03-01</td>\n",
       "      <td>-0.000988</td>\n",
       "    </tr>\n",
       "    <tr>\n",
       "      <th>3</th>\n",
       "      <td>First</td>\n",
       "      <td>1970-04-01</td>\n",
       "      <td>-0.002188</td>\n",
       "    </tr>\n",
       "    <tr>\n",
       "      <th>4</th>\n",
       "      <td>First</td>\n",
       "      <td>1970-05-01</td>\n",
       "      <td>-0.002470</td>\n",
       "    </tr>\n",
       "    <tr>\n",
       "      <th>...</th>\n",
       "      <td>...</td>\n",
       "      <td>...</td>\n",
       "      <td>...</td>\n",
       "    </tr>\n",
       "    <tr>\n",
       "      <th>3055</th>\n",
       "      <td>Fifth</td>\n",
       "      <td>2020-08-01</td>\n",
       "      <td>0.015090</td>\n",
       "    </tr>\n",
       "    <tr>\n",
       "      <th>3056</th>\n",
       "      <td>Fifth</td>\n",
       "      <td>2020-09-01</td>\n",
       "      <td>-0.002152</td>\n",
       "    </tr>\n",
       "    <tr>\n",
       "      <th>3057</th>\n",
       "      <td>Fifth</td>\n",
       "      <td>2020-10-01</td>\n",
       "      <td>0.018363</td>\n",
       "    </tr>\n",
       "    <tr>\n",
       "      <th>3058</th>\n",
       "      <td>Fifth</td>\n",
       "      <td>2020-11-01</td>\n",
       "      <td>0.012217</td>\n",
       "    </tr>\n",
       "    <tr>\n",
       "      <th>3059</th>\n",
       "      <td>Fifth</td>\n",
       "      <td>2020-12-01</td>\n",
       "      <td>0.023398</td>\n",
       "    </tr>\n",
       "  </tbody>\n",
       "</table>\n",
       "<p>3060 rows × 3 columns</p>\n",
       "</div>"
      ],
      "text/plain": [
       "     Portfolio        date       ret\n",
       "0        First  1970-01-01  0.014412\n",
       "1        First  1970-02-01 -0.006539\n",
       "2        First  1970-03-01 -0.000988\n",
       "3        First  1970-04-01 -0.002188\n",
       "4        First  1970-05-01 -0.002470\n",
       "...        ...         ...       ...\n",
       "3055     Fifth  2020-08-01  0.015090\n",
       "3056     Fifth  2020-09-01 -0.002152\n",
       "3057     Fifth  2020-10-01  0.018363\n",
       "3058     Fifth  2020-11-01  0.012217\n",
       "3059     Fifth  2020-12-01  0.023398\n",
       "\n",
       "[3060 rows x 3 columns]"
      ]
     },
     "execution_count": 8,
     "metadata": {},
     "output_type": "execute_result"
    }
   ],
   "source": [
    "fake_returns"
   ]
  },
  {
   "cell_type": "code",
   "execution_count": null,
   "metadata": {},
   "outputs": [],
   "source": [
    "# Some pseudo code\n",
    "\n",
    "# Input variables (these require input from the user, MANDATORY)\n",
    "\n",
    "submitted_income = 85000\n",
    "income_growth = 0.035\n",
    "\n",
    "monthly_income = submitted_income/12\n",
    "monthly_growth = income_growth/12\n",
    "\n",
    "\n",
    "# I think I just want these to be static\n",
    "save_rate_monthly = 0.10/12\n",
    "\n",
    "start_savings = 25\n",
    "end_savings = 65\n",
    "death_date = 85\n",
    "\n",
    "month_start_savings = \n"
   ]
  },
  {
   "cell_type": "code",
   "execution_count": 12,
   "metadata": {},
   "outputs": [
    {
     "data": {
      "text/plain": [
       "3059"
      ]
     },
     "execution_count": 12,
     "metadata": {},
     "output_type": "execute_result"
    }
   ],
   "source": [
    "total_monthly_incomes = []\n",
    "\n",
    "for t in fake_returns.index:\n",
    "    \n"
   ]
  }
 ],
 "metadata": {
  "kernelspec": {
   "display_name": "base",
   "language": "python",
   "name": "python3"
  },
  "language_info": {
   "codemirror_mode": {
    "name": "ipython",
    "version": 3
   },
   "file_extension": ".py",
   "mimetype": "text/x-python",
   "name": "python",
   "nbconvert_exporter": "python",
   "pygments_lexer": "ipython3",
   "version": "3.11.5"
  }
 },
 "nbformat": 4,
 "nbformat_minor": 2
}
